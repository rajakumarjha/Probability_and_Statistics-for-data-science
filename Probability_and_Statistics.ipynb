{
 "cells": [
  {
   "cell_type": "code",
   "execution_count": 1,
   "metadata": {},
   "outputs": [],
   "source": [
    "# probability is one of the basic mathematical tool we use in the case if two data overlaps in some region.\n",
    "# On the basis of density of data we assign some probability of occuring of each one of them."
   ]
  },
  {
   "cell_type": "code",
   "execution_count": 2,
   "metadata": {},
   "outputs": [],
   "source": [
    "# population=Entire set of data. Eg 7B people in the world\n",
    "# Sample=A part of data. Eg; 10000 people out of 7B people."
   ]
  },
  {
   "cell_type": "code",
   "execution_count": 3,
   "metadata": {},
   "outputs": [],
   "source": [
    "#Gaussian Distribution:A lot of natural things happened follow gaussian distribution.\n",
    "# Gaussian distribution is also called as normal distribution.\n",
    "# (mean-var to mean+var) 68% of data points lies in this range.\n",
    "# Similarly (mean-2*var to mean+2*var) 95% of data lies in this range."
   ]
  },
  {
   "cell_type": "code",
   "execution_count": 4,
   "metadata": {},
   "outputs": [],
   "source": [
    "# If one half of a curve is symmetric wrt other half this curve is said to be skewness\n",
    "#Kurtosis: How peaked a distribution is wrt gaussian. Kurtosis of a gaussian is 0. if kurtosis is given as 2 than this \n",
    "# distribution  is aving sharp peak than gaussian. "
   ]
  },
  {
   "cell_type": "code",
   "execution_count": 5,
   "metadata": {},
   "outputs": [],
   "source": [
    "# Standard Normal variate:  gaussian distribution with mean=0 and var=1;\n",
    "# Actauuly we stanadrized it by applying this reduction function on each of data point. Z=(X-mean)/var\n",
    "# Now after standardzation of data we know that mean=0 nad var=1;\n",
    "# Standardzation makes things easy as now we know mean=0 and var=1 so particular perception of 68% becomes so easy."
   ]
  },
  {
   "cell_type": "code",
   "execution_count": 6,
   "metadata": {},
   "outputs": [],
   "source": [
    "# kernal density estimation: While drawing pdf for data we actually draw a gaussian bell shape curve for each data point now we \n",
    "# sum up the density to get pdf.\n",
    "# Beadthwidth : We take optimal bandwidth for smoothing and spreadness of pdf."
   ]
  },
  {
   "cell_type": "code",
   "execution_count": 7,
   "metadata": {},
   "outputs": [],
   "source": [
    "#Central limit theorem: This theorem says that if we have some distribution having finite mean and var. Than we can take n samples from this.\n",
    "#Now finf out the mean of all m samples and than the distribution of mean of sample follows gaussian distribution with mean same as popualtion mean and \n",
    "# and var=population var/n."
   ]
  },
  {
   "cell_type": "code",
   "execution_count": 8,
   "metadata": {},
   "outputs": [
    {
     "name": "stdout",
     "output_type": "stream",
     "text": [
      "0 : -3.886883604829457\n",
      "1 : -2.45697050890988\n",
      "2 : -2.2173346169029493\n",
      "3 : -2.0066056985949707\n",
      "4 : -1.800538237122408\n",
      "5 : -1.6448053487102394\n",
      "6 : -1.5150081703707192\n",
      "7 : -1.4754871859959795\n",
      "8 : -1.388806871879129\n",
      "9 : -1.3289658524298125\n",
      "10 : -1.2756588127325017\n",
      "11 : -1.2199612786454737\n",
      "12 : -1.1802531761253672\n",
      "13 : -1.1223933795121277\n",
      "14 : -1.081781170496461\n",
      "15 : -1.03886818554664\n",
      "16 : -1.0000441129393423\n",
      "17 : -0.9703811050635973\n",
      "18 : -0.9209204518852412\n",
      "19 : -0.8662697440185853\n",
      "20 : -0.8397635273372985\n",
      "21 : -0.803831436649582\n",
      "22 : -0.7631515332741916\n",
      "23 : -0.7524376216554819\n",
      "24 : -0.7097725922313171\n",
      "25 : -0.6553490862895668\n",
      "26 : -0.6091346745181782\n",
      "27 : -0.5709603182829956\n",
      "28 : -0.5394631858730174\n",
      "29 : -0.512455184397378\n",
      "30 : -0.48979252633227843\n",
      "31 : -0.464941744378733\n",
      "32 : -0.43156712445946865\n",
      "33 : -0.408816947012479\n",
      "34 : -0.37522717790587945\n",
      "35 : -0.3519696901674253\n",
      "36 : -0.33590517149529936\n",
      "37 : -0.3041227422670865\n",
      "38 : -0.28063652974318853\n",
      "39 : -0.2505715751730658\n",
      "40 : -0.19919790561636314\n",
      "41 : -0.17789810045735288\n",
      "42 : -0.14652893586180837\n",
      "43 : -0.1335441868161425\n",
      "44 : -0.1087692285627853\n",
      "45 : -0.08859716027545105\n",
      "46 : -0.04981135240208287\n",
      "47 : -0.022842483388884928\n",
      "48 : 0.0026791779618217633\n",
      "49 : 0.023492695634235148\n",
      "50 : 0.05151366399925435\n",
      "51 : 0.073765977527124\n",
      "52 : 0.09038210768430638\n",
      "53 : 0.10894970337003299\n",
      "54 : 0.1433368208014057\n",
      "55 : 0.1674169326544548\n",
      "56 : 0.18986124681001965\n",
      "57 : 0.20485211359232391\n",
      "58 : 0.2390142993617094\n",
      "59 : 0.2589658843042806\n",
      "60 : 0.2915136017374298\n",
      "61 : 0.3113519269382152\n",
      "62 : 0.3578882855013324\n",
      "63 : 0.37242061529623544\n",
      "64 : 0.38404717268631877\n",
      "65 : 0.4043647741162898\n",
      "66 : 0.43071643620694755\n",
      "67 : 0.4508674517755393\n",
      "68 : 0.4860648584196533\n",
      "69 : 0.5197438436270553\n",
      "70 : 0.5612447509428851\n",
      "71 : 0.5956278093266654\n",
      "72 : 0.6249026178472514\n",
      "73 : 0.6506063735476714\n",
      "74 : 0.67000566768255\n",
      "75 : 0.7055377073882818\n",
      "76 : 0.7234002128585284\n",
      "77 : 0.7578697637741038\n",
      "78 : 0.8089353895993434\n",
      "79 : 0.842114938789707\n",
      "80 : 0.8909738804212042\n",
      "81 : 0.9099235090326199\n",
      "82 : 0.9340061568730506\n",
      "83 : 0.9714761167678032\n",
      "84 : 1.0124802943662612\n",
      "85 : 1.047506437885945\n",
      "86 : 1.0770025780348775\n",
      "87 : 1.1242663764165115\n",
      "88 : 1.1761888724071512\n",
      "89 : 1.2207203546501302\n",
      "90 : 1.2713891644371333\n",
      "91 : 1.346329685502289\n",
      "92 : 1.392646238755586\n",
      "93 : 1.4700311139623208\n",
      "94 : 1.5279394684336236\n",
      "95 : 1.6490886393164361\n",
      "96 : 1.7150048325954566\n",
      "97 : 1.904942960184614\n",
      "98 : 2.1434162137004327\n",
      "99 : 2.3092033897351323\n",
      "100 : 3.2228906079681368\n"
     ]
    }
   ],
   "source": [
    "# Checking if a random variable is aussian or not?\n",
    "# Various methods are there \n",
    "#(1)Quantile-Quantile Plot: \n",
    "# step 1: Sort the Xi's and calculate the percentile\n",
    "# step 2: take a known normal distribution sort them and calculate its percentile.\n",
    "# step 3: plot these and if it is forms a straight line than our ditribution was normal\n",
    "import numpy as np\n",
    "import pylab \n",
    "import scipy.stats as stats\n",
    "std_normal=np.random.normal(loc=0,scale=1,size=1000)\n",
    "# calculate percentile\n",
    "for i in range(0,101):\n",
    "    print(i,\":\",np.percentile(std_normal,i))\n",
    "\n",
    "                              "
   ]
  },
  {
   "cell_type": "code",
   "execution_count": 9,
   "metadata": {},
   "outputs": [
    {
     "data": {
      "image/png": "[encoded data removed]",
      "text/plain": [
       "<matplotlib.figure.Figure at 0x1c60081ccf8>"
      ]
     },
     "metadata": {},
     "output_type": "display_data"
    }
   ],
   "source": [
    "measure=np.random.normal(loc=20,scale=5,size=100)\n",
    "stats.probplot(measure,dist=\"norm\",plot=pylab)\n",
    "pylab.show()"
   ]
  },
  {
   "cell_type": "code",
   "execution_count": 10,
   "metadata": {},
   "outputs": [
    {
     "data": {
      "image/png": "[encoded data removed]",
      "text/plain": [
       "<matplotlib.figure.Figure at 0x1c6054079e8>"
      ]
     },
     "metadata": {},
     "output_type": "display_data"
    }
   ],
   "source": [
    "# on taking a uniform distribution\n",
    "measure=np.random.uniform(low=-1,high=1,size=10000)\n",
    "stats.probplot(measure,dist=\"norm\",plot=pylab)\n",
    "pylab.show()\n",
    "# here we see that curve is not a staight line.IT should not be."
   ]
  },
  {
   "cell_type": "code",
   "execution_count": 11,
   "metadata": {},
   "outputs": [
    {
     "name": "stdout",
     "output_type": "stream",
     "text": [
      "0.007947905808311062\n"
     ]
    }
   ],
   "source": [
    "# Uniform distribution\n",
    "# pdf=1/b-a ; x : [a,b]\n",
    "#    =0 ;    otherwise;\n",
    "# cdf=x-a/b-a ; X: [a,b)\n",
    "#    =1     ;   X>=b \n",
    "#    =0     ;   X<a\n",
    "import random\n",
    "#Any random value from uniform distribution between 0 and 1.\n",
    "print(random.random())"
   ]
  },
  {
   "cell_type": "code",
   "execution_count": 12,
   "metadata": {},
   "outputs": [
    {
     "name": "stdout",
     "output_type": "stream",
     "text": [
      "[7, 9, 14, 19, 24, 26, 30, 35, 37, 39, 41, 50, 51, 55, 59, 65, 70, 74, 78, 80, 82, 88, 91, 94, 97, 105, 119, 123, 125, 127, 129, 133, 137]\n"
     ]
    }
   ],
   "source": [
    "# Where does uniform useful?\n",
    "# Lets say we have to select 30 datapoints from 100 datapoints with equal probabilty so, we go with random number generating the index\n",
    "# Random number internally uses uniform distribution concept.\n",
    "m=150\n",
    "n=30\n",
    "p=n/m\n",
    "sample_data=[]\n",
    "for i in range(0,m+1):\n",
    "    if random.random()<=p:\n",
    "        sample_data.append(i)\n",
    "print(sample_data)\n",
    "# each data hash been selected with the probability <=p\n",
    "# In Sampling we take use of uniform distribution. "
   ]
  },
  {
   "cell_type": "code",
   "execution_count": 13,
   "metadata": {},
   "outputs": [],
   "source": [
    "# Bernoulli and Binomial\n",
    "# pmf= (1-p) for x:0\n",
    "#   = p for x:1\n",
    "# mean=p\n",
    "#var=pq\n"
   ]
  },
  {
   "cell_type": "code",
   "execution_count": 14,
   "metadata": {},
   "outputs": [],
   "source": [
    "# Binomial is extended version of bernoulli\n",
    "# y=Bin(n,p) where n=number of trais and p is probability of success.\n",
    "# mean=np\n",
    "# median=np\n",
    "# var=npq\n",
    "# Every single thing in both are same except for n."
   ]
  },
  {
   "cell_type": "code",
   "execution_count": 15,
   "metadata": {},
   "outputs": [],
   "source": [
    "# log normal distribution: if a random varible x is said to be log normally distributed if log(x) is normally distributed.\n",
    "# var increases implys skewness increases in the curve and it got flattened.\n",
    "# Very useful in day to day life.\n",
    "# Ex: (1) length of Comments on internet discussion.\n",
    "#     (2) Income of people is log normally ditributed.\n",
    "# if X is log normally distributed than Y=log(x), hence Y is normally distributed."
   ]
  },
  {
   "cell_type": "code",
   "execution_count": 16,
   "metadata": {},
   "outputs": [],
   "source": [
    "# power law distribution: It is also called as 80-20 law. Since 80% of data are present just in 20% intervel\n",
    "#Pareto-distribtuion : When distribution follow power law it is called as pareto distribution \n",
    "#Application:\n",
    "#(1) Humen settlements (2) File size distribution on Internet (3) Oil reserviours \n",
    "# How to check whether a curve is following power law or not?\n",
    "#log-log graph: (1) Take log of each input value\n",
    "#                (2) plot this if we get a linear line with negative slope. This implys its a power law.\n",
    "# pareto distribution: Quantile-Quantile plot();"
   ]
  },
  {
   "cell_type": "code",
   "execution_count": 17,
   "metadata": {},
   "outputs": [
    {
     "data": {
      "image/png": "[encoded data removed]",
      "text/plain": [
       "<matplotlib.figure.Figure at 0x1c60559a1d0>"
      ]
     },
     "metadata": {},
     "output_type": "display_data"
    }
   ],
   "source": [
    "# Dealing gaussian curve is not a big deal. So, we try to convert pareto distribution to gaussian distribution. \n",
    "#Box-Cox transformation is a way to convert a pareto to gaussian.\n",
    "from scipy import stats\n",
    "import matplotlib.pyplot as plt\n",
    "fig = plt.figure()\n",
    "ax1 = fig.add_subplot(211)\n",
    "x = stats.loggamma.rvs(5, size=500) + 5\n",
    "stats.probplot(x, dist=stats.norm, plot=ax1)\n",
    "ax1.set_xlabel('')\n",
    "ax1.set_title('Probplot against normal distribution')\n",
    "\n",
    "ax2 = fig.add_subplot(212)\n",
    "xt,t = stats.boxcox(x)\n",
    "stats.probplot(xt, dist=stats.norm, plot=ax2)\n",
    "ax2.set_title('Probplot after Box-Cox transformation')\n",
    "\n",
    "plt.show();"
   ]
  },
  {
   "cell_type": "code",
   "execution_count": 18,
   "metadata": {},
   "outputs": [],
   "source": [
    "#Co-Variance: Way to see relationship between two random varibale X and Y\n",
    "#(1) Co-Variance\n",
    "#(2) pearson correlation cofficient\n",
    "#(3) Spearman Rank Co-relation Coefficient\n",
    "# 1. Co-Varinace:\n",
    "# Cov(X,X)=var(X)\n",
    "# Cov(X,Y)> this means X inc. => Y inc.\n",
    "# Cov(X,Y)<0 this means X inc. => Y dec.\n",
    "#DrawBack: Changin the unit will alter the Cov. So we go for pearson Correaltion Coefficient.\n",
    "\n",
    "    "
   ]
  },
  {
   "cell_type": "code",
   "execution_count": 19,
   "metadata": {},
   "outputs": [],
   "source": [
    "# Pearson Correlation coefficient:P= Cov(X,Y)/Var(X)*Var(Y),Range(-1<=P<=1):P=1 where Y increases as X increases perfectly.\n",
    "# It does not give information about how fast will Y changes when we change X;\n",
    "#Drawback: For non-linear curve it gives us P=0, which is not perfectly valid.\n"
   ]
  },
  {
   "cell_type": "code",
   "execution_count": 20,
   "metadata": {},
   "outputs": [],
   "source": [
    "# Spearman Correelation: It isnoting but pearson correlation cofficient coffiecints of ranks of random varible. \n",
    "#Least value is given est rank i.e 1.\n",
    "# Its only cares about the rank. Outliers is dealt nicely here."
   ]
  },
  {
   "cell_type": "code",
   "execution_count": 21,
   "metadata": {},
   "outputs": [],
   "source": [
    "# \"Correaltion  doesn't imply Causation\"\n",
    "# Explaination: There is corelation between two RVs. But it does not means that one is the cause of other."
   ]
  },
  {
   "cell_type": "code",
   "execution_count": 22,
   "metadata": {},
   "outputs": [],
   "source": [
    "#Confidence Interval: If we have to find the population mean, we often calculate sample mean and refer it to as population mean.\n",
    "# But we can have better way. Just define that popualtion mean will be belonging to a range stating a confidence percentage.\n",
    "# Exmple: [115,125.3] with 95% confidence. This information is much better than one single population mean.\n",
    "# Question is how to calculate?\n",
    "# Lets take a normal distribution, in this distribution we know that 95% of data lie in inteval of mean+-2*var;\n",
    "# And 90% data we can easily calculate, using Normal-Distribution Table\n",
    "# Method 1: Mean and std is known\n",
    "# Steps:\n",
    "# (1).Calculate the mean of sample and var as well convert it to Normal population mean using Central Limit Theorem\n",
    "# (2). Once we came to know about mean and stad_devaiation we can easily calculate it. \n",
    "# Method 2:Std is unknown\n",
    "# we use t-distribution: This distribution was specially created for calculating Confidence Interval\n",
    "# Once distribution is known we can easily calculate the interval.\n",
    "# Drawback: With above two cases we can not calcualte std, median, 90th percentile etc.\n",
    "# we have BootStraping  method for calculating CI which becomes possible only because of modern computinng."
   ]
  },
  {
   "cell_type": "code",
   "execution_count": 23,
   "metadata": {},
   "outputs": [
    {
     "data": {
      "image/png": "[encoded data removed]",
      "text/plain": [
       "<matplotlib.figure.Figure at 0x1c607557748>"
      ]
     },
     "metadata": {},
     "output_type": "display_data"
    },
    {
     "name": "stdout",
     "output_type": "stream",
     "text": [
      "The confidence interval lie between 160.0 and 176.0\n"
     ]
    }
   ],
   "source": [
    "# Confidence Interval using BootStraping : \n",
    "# This is extensively based on omputer programming and simulations.\n",
    "# Step 1: Using given sample we start generating samples randomly of size m. Find the median for this sample\n",
    "#step2:  similarly for next K=1000 samples\n",
    "#step3: for K=1000 samples we have 1000 medians now sort the median and hence 95% of median will be in between 25 to 975\n",
    "#step4: similarly for var,std etc.\n",
    "# In machine learning we will be using this only for finding confidence interval\n",
    "#Code....\n",
    "import numpy as np\n",
    "from pandas import read_csv\n",
    "from sklearn.utils import resample\n",
    "from sklearn.metrics import accuracy_score\n",
    "from matplotlib import pyplot\n",
    "X=np.array([180,162,158,172,168,150,171,183,165,176]);\n",
    "# Bootstrap\n",
    "n_iteration=1000\n",
    "n_size=(len(X))\n",
    "median=list()\n",
    "for i in range(n_iteration):\n",
    "    s=resample(X,n_samples=n_size)\n",
    "    m=np.median(s)\n",
    "    median.append(m)\n",
    "pyplot.hist(median)\n",
    "pyplot.show()\n",
    "# 2.5 percentile to 97.5 percentile will give us the required interval\n",
    "lower=np.percentile(median,2.5)\n",
    "uper=np.percentile(median,97.5)\n",
    "print(\"The confidence interval lie between {} and {}\".format(lower,uper))"
   ]
  },
  {
   "cell_type": "code",
   "execution_count": 24,
   "metadata": {},
   "outputs": [],
   "source": [
    "#Hypothesis testing methodology:\n",
    "#Hypothesis:-It is the claim that we want to test. \n",
    "# Null Hypothesis: Ho is the currently accepted value.\n",
    "# alternative Hypothesis: Ha involves the claim to be tested.This also called as research hypothesis.\n",
    "# Steps:\n",
    "# (1) Choosing a test statistic: On which we want to claim\n",
    "# (2) We define sth called as null hypothesis\n",
    "# (3) Assume that our null hypothesis is true : if we could proove that our assmption was wrong than Ha will be accepted.\n",
    "#  Here we will be prooving by contradiction\n",
    "# (4) P-Value: probility of acceptance of hypothesis Ha when our Ho is true\n",
    "# if P-Value is high this imply Ho is accepted else Ha is accepted"
   ]
  },
  {
   "cell_type": "code",
   "execution_count": 25,
   "metadata": {},
   "outputs": [],
   "source": [
    "# How to calculate P-value? Resampling and permutation\n",
    "# See that lecture deals with an aprropriate example.\n"
   ]
  },
  {
   "cell_type": "code",
   "execution_count": 28,
   "metadata": {},
   "outputs": [
    {
     "data": {
      "image/png": "[encoded data removed]",
      "text/plain": [
       "<matplotlib.figure.Figure at 0x1c60bcf0400>"
      ]
     },
     "metadata": {},
     "output_type": "display_data"
    }
   ],
   "source": [
    "# KS Test: This test says whether two random distribution is similar or not. It is extremly important.\n",
    "# Ho is two random variable X1 and X2 comes from same hypothesis. Ha is opposite to that.\n",
    "# we define a test-satistics and after modification we get a formula which depands on n,m, alpha. if test-satistics> a certain formula Ho is rejected.\n",
    "import numpy as np\n",
    "import seaborn as sns\n",
    "from scipy import stats\n",
    "import matplotlib.pyplot as plt\n",
    "X=stats.norm.rvs(size=1000)\n",
    "sns.set_style('whitegrid')\n",
    "sns.kdeplot(np.array(x),bw=0.5)\n",
    "plt.show()"
   ]
  },
  {
   "cell_type": "code",
   "execution_count": 29,
   "metadata": {},
   "outputs": [
    {
     "data": {
      "text/plain": [
       "KstestResult(statistic=0.027597459619713494, pvalue=0.42809416627191865)"
      ]
     },
     "execution_count": 29,
     "metadata": {},
     "output_type": "execute_result"
    }
   ],
   "source": [
    "stats.kstest(X,'norm')"
   ]
  },
  {
   "cell_type": "code",
   "execution_count": 32,
   "metadata": {},
   "outputs": [],
   "source": [
    "# P-Vlaue is high this means that above is the normal distribution. "
   ]
  },
  {
   "cell_type": "code",
   "execution_count": 33,
   "metadata": {},
   "outputs": [
    {
     "data": {
      "image/png": "[encoded data removed]",
      "text/plain": [
       "<matplotlib.figure.Figure at 0x1c60c157198>"
      ]
     },
     "metadata": {},
     "output_type": "display_data"
    }
   ],
   "source": [
    "Y=np.random.uniform(0,1,10000)\n",
    "sns.kdeplot(np.array(Y),bw=0.1)\n",
    "plt.show()"
   ]
  },
  {
   "cell_type": "code",
   "execution_count": 34,
   "metadata": {},
   "outputs": [
    {
     "data": {
      "text/plain": [
       "KstestResult(statistic=0.5000840792446579, pvalue=0.0)"
      ]
     },
     "execution_count": 34,
     "metadata": {},
     "output_type": "execute_result"
    }
   ],
   "source": [
    "stats.kstest(Y,'norm')"
   ]
  },
  {
   "cell_type": "code",
   "execution_count": 35,
   "metadata": {},
   "outputs": [],
   "source": [
    "# P value : This says that this not a normal distribution"
   ]
  },
  {
   "cell_type": "code",
   "execution_count": null,
   "metadata": {},
   "outputs": [],
   "source": [
    "# How do we calculate P(x=const/Ho)?\n",
    "# steps: 1. Create a new sample containing all the value\n",
    "#        2. Randomly create two sample out of this.. do this for 1000 times and obtain mean for both in each case\n",
    "#        3  Sort the mean difference and locate the position for acutal mean difference . % of data right of it is value of P."
   ]
  }
 ],
 "metadata": {
  "kernelspec": {
   "display_name": "Python 3",
   "language": "python",
   "name": "python3"
  },
  "language_info": {
   "codemirror_mode": {
    "name": "ipython",
    "version": 3
   },
   "file_extension": ".py",
   "mimetype": "text/x-python",
   "name": "python",
   "nbconvert_exporter": "python",
   "pygments_lexer": "ipython3",
   "version": "3.6.4"
  }
 },
 "nbformat": 4,
 "nbformat_minor": 2
}
